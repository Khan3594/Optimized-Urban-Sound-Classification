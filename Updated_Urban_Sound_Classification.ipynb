{
  "nbformat": 4,
  "nbformat_minor": 0,
  "metadata": {
    "colab": {
      "provenance": [],
      "collapsed_sections": []
    },
    "kernelspec": {
      "name": "python3",
      "display_name": "Python 3"
    },
    "language_info": {
      "name": "python"
    },
    "accelerator": "GPU"
  },
  "cells": [
    {
      "cell_type": "markdown",
      "source": [
        "# Urban Sounds Classification"
      ],
      "metadata": {
        "id": "Hjr5K4-M7K5a"
      }
    },
    {
      "cell_type": "markdown",
      "source": [
        "## Kullanacağımız Kütüphaneler\n",
        "\n",
        "* Kodu Colab'da yazdığımız için kullanacağımız ses, veri gibi materyalleri Google Drive'a atmak gerekiyor.\n",
        "\n",
        "* drive.mount: Aynı Linux'ta olduğu gibi Drive'da da kök dizin vardır. Drive'da kök dizin /content/drive şeklindedir. Bu kod ile kök dizine bağlanılır.\n",
        "\n",
        "* os.chdir: Linux'ta da olduğu gibi chdir komutu bizi istediğimiz klasöre atar. Dikkat edersen burada da /content/drive dosya yolu var. Ama ben My Drive dosyasına bağlanmak istiyorum. Bu dosya tıpkı Windows'ta Desktop gibi bir klasör. Yani Desktop'ın Google Drive'da karşılığı My Drive'dır.  UrbanSound8K.tar.gz(sıkıştırılmış dosya) dosyasını da My Drive içinde global_ai_hub diye daha önce oluşturduğum klasöre yüklemiştim. Bu yüzden chdir ile dosya yolunu buraya getirdim. Artık bu klasörün içindeyim."
      ],
      "metadata": {
        "id": "xC4r3x1OWSsJ"
      }
    },
    {
      "cell_type": "code",
      "source": [
        "from google.colab import drive\n",
        "import os\n",
        "drive.mount(\"/content/drive\")\n",
        "os.chdir(\"/content/drive/My Drive/global_ai_hub\")"
      ],
      "metadata": {
        "colab": {
          "base_uri": "https://localhost:8080/"
        },
        "id": "Jgurdct5uFZo",
        "outputId": "f71d128c-4639-4105-9fd6-e29d21af3d9b"
      },
      "execution_count": 2,
      "outputs": [
        {
          "output_type": "stream",
          "name": "stdout",
          "text": [
            "Mounted at /content/drive\n"
          ]
        }
      ]
    },
    {
      "cell_type": "markdown",
      "source": [
        "## Diğer Kütüphaneler\n",
        "\n",
        "* librosa: Bu kütüphane ses dosyalarını(mp3, wav gibi dosyalar) okumamızı sağlar.\n",
        "\n",
        "* librosa.display: librosa'nın bir özelliği de ses dosyalarını resme çevirebilmesidir. Bunun için librosa'nın display metodunu kullanılır.\n",
        "\n",
        "* cv2: OpenCV kütüphanesi, resimler üzerinde sonsuz sayıda işlemler yapmamızı sağlar. Resimleri okur, gösterir, resim üzerinde değişiklik yaparsak kaydeder. Küçültme, büyütme, renkli resimleri gri formata dönüştürme gibi daha bir sürü işlem yapmamız sağlar."
      ],
      "metadata": {
        "id": "828l24R4Y-v2"
      }
    },
    {
      "cell_type": "code",
      "source": [
        "import librosa\n",
        "import librosa.display\n",
        "import numpy as np\n",
        "import matplotlib.pyplot as plt\n",
        "import tensorflow as tf\n",
        "import cv2\n",
        "from google.colab.patches import cv2_imshow\n",
        "import sys"
      ],
      "metadata": {
        "id": "RIPhOExq5Wrk"
      },
      "execution_count": 3,
      "outputs": []
    },
    {
      "cell_type": "markdown",
      "source": [
        "* os.chdir ile global_ai_hub içine girmiştim. Daha önce global_ai_hub'ın içine UrbanSound8K.tar.gz sıkıştırılmış dosyasını yüklemiştim. Aşağıdaki komutla bu sıkıştırılmış dosyayı açtım."
      ],
      "metadata": {
        "id": "wi0GEH1rar3L"
      }
    },
    {
      "cell_type": "code",
      "execution_count": null,
      "metadata": {
        "id": "Uf2bZe-At39T"
      },
      "outputs": [],
      "source": [
        "#Unzip  UrbanSound8K.tar.gz\n",
        "!tar -xvf UrbanSound8K.tar.gz"
      ]
    },
    {
      "cell_type": "markdown",
      "source": [
        "## 0. Resim Dosyaları Oluşturma\n",
        "\n",
        "* Sıkıştırılmış dosyayı açınca içinde sound ve metadata adında iki klasör olan bir klasör gelmiş olacak. sound klasöründe ses dosyaları var, metadata içinde de bir tablo dosyası var(UrbanSound8K.csv). Bu dosyayı pandas kütüphanesi vasıtasıyla açalım.\n",
        "\n",
        "\n",
        "* En soldaki sütunda ses dosyalarının isimleri var. Dikkat edersen dosya isminde ilk \"-\" ifadesinden sonraki numara sınıf/etiket'lerdir. classID sütunundaki etiketlerle bu numaraların aynı olduğunu aşağıdaki tablodan görebilirsin. Dolayısıyla ileride bu dosyaların etiketlerine dosya isimlerinden(100032-'3'-0-0.wav gibi) erişeceğiz.\n",
        "\n",
        "* Toplam 10 adet etiket var. Detayları da şöyle:\n",
        "\n",
        "0 = air_conditioner\n",
        "\n",
        "1 = car_horn\n",
        "\n",
        "2 = children_playing\n",
        "\n",
        "3 = dog_bark\n",
        "\n",
        "4 = drilling\n",
        "\n",
        "5 = engine_idling\n",
        "\n",
        "6 = gun_shot\n",
        "\n",
        "7 = jackhammer\n",
        "\n",
        "8 = siren\n",
        "\n",
        "9 = street_music"
      ],
      "metadata": {
        "id": "_1kVlkERbvkL"
      }
    },
    {
      "cell_type": "code",
      "source": [
        "import pandas as pd\n",
        "df=pd.read_csv(\"/content/drive/My Drive/global_ai_hub/UrbanSound8K/metadata/UrbanSound8K.csv\")\n",
        "df.head(15)"
      ],
      "metadata": {
        "colab": {
          "base_uri": "https://localhost:8080/",
          "height": 520
        },
        "id": "lXVNEplHcC_v",
        "outputId": "a41c6951-83be-49ae-f2a9-1ab3ad163932"
      },
      "execution_count": 4,
      "outputs": [
        {
          "output_type": "execute_result",
          "data": {
            "text/plain": [
              "       slice_file_name    fsID      start        end  salience  fold  classID  \\\n",
              "0     100032-3-0-0.wav  100032   0.000000   0.317551         1     5        3   \n",
              "1   100263-2-0-117.wav  100263  58.500000  62.500000         1     5        2   \n",
              "2   100263-2-0-121.wav  100263  60.500000  64.500000         1     5        2   \n",
              "3   100263-2-0-126.wav  100263  63.000000  67.000000         1     5        2   \n",
              "4   100263-2-0-137.wav  100263  68.500000  72.500000         1     5        2   \n",
              "5   100263-2-0-143.wav  100263  71.500000  75.500000         1     5        2   \n",
              "6   100263-2-0-161.wav  100263  80.500000  84.500000         1     5        2   \n",
              "7     100263-2-0-3.wav  100263   1.500000   5.500000         1     5        2   \n",
              "8    100263-2-0-36.wav  100263  18.000000  22.000000         1     5        2   \n",
              "9     100648-1-0-0.wav  100648   4.823402   5.471927         2    10        1   \n",
              "10    100648-1-1-0.wav  100648   8.998279  10.052132         2    10        1   \n",
              "11    100648-1-2-0.wav  100648  16.699509  17.104837         2    10        1   \n",
              "12    100648-1-3-0.wav  100648  17.631764  19.253075         2    10        1   \n",
              "13    100648-1-4-0.wav  100648  25.332994  27.197502         2    10        1   \n",
              "14    100652-3-0-0.wav  100652   0.000000   4.000000         1     2        3   \n",
              "\n",
              "               class  \n",
              "0           dog_bark  \n",
              "1   children_playing  \n",
              "2   children_playing  \n",
              "3   children_playing  \n",
              "4   children_playing  \n",
              "5   children_playing  \n",
              "6   children_playing  \n",
              "7   children_playing  \n",
              "8   children_playing  \n",
              "9           car_horn  \n",
              "10          car_horn  \n",
              "11          car_horn  \n",
              "12          car_horn  \n",
              "13          car_horn  \n",
              "14          dog_bark  "
            ],
            "text/html": [
              "\n",
              "  <div id=\"df-4929e0da-600d-4181-8c5a-7832d3f72173\">\n",
              "    <div class=\"colab-df-container\">\n",
              "      <div>\n",
              "<style scoped>\n",
              "    .dataframe tbody tr th:only-of-type {\n",
              "        vertical-align: middle;\n",
              "    }\n",
              "\n",
              "    .dataframe tbody tr th {\n",
              "        vertical-align: top;\n",
              "    }\n",
              "\n",
              "    .dataframe thead th {\n",
              "        text-align: right;\n",
              "    }\n",
              "</style>\n",
              "<table border=\"1\" class=\"dataframe\">\n",
              "  <thead>\n",
              "    <tr style=\"text-align: right;\">\n",
              "      <th></th>\n",
              "      <th>slice_file_name</th>\n",
              "      <th>fsID</th>\n",
              "      <th>start</th>\n",
              "      <th>end</th>\n",
              "      <th>salience</th>\n",
              "      <th>fold</th>\n",
              "      <th>classID</th>\n",
              "      <th>class</th>\n",
              "    </tr>\n",
              "  </thead>\n",
              "  <tbody>\n",
              "    <tr>\n",
              "      <th>0</th>\n",
              "      <td>100032-3-0-0.wav</td>\n",
              "      <td>100032</td>\n",
              "      <td>0.000000</td>\n",
              "      <td>0.317551</td>\n",
              "      <td>1</td>\n",
              "      <td>5</td>\n",
              "      <td>3</td>\n",
              "      <td>dog_bark</td>\n",
              "    </tr>\n",
              "    <tr>\n",
              "      <th>1</th>\n",
              "      <td>100263-2-0-117.wav</td>\n",
              "      <td>100263</td>\n",
              "      <td>58.500000</td>\n",
              "      <td>62.500000</td>\n",
              "      <td>1</td>\n",
              "      <td>5</td>\n",
              "      <td>2</td>\n",
              "      <td>children_playing</td>\n",
              "    </tr>\n",
              "    <tr>\n",
              "      <th>2</th>\n",
              "      <td>100263-2-0-121.wav</td>\n",
              "      <td>100263</td>\n",
              "      <td>60.500000</td>\n",
              "      <td>64.500000</td>\n",
              "      <td>1</td>\n",
              "      <td>5</td>\n",
              "      <td>2</td>\n",
              "      <td>children_playing</td>\n",
              "    </tr>\n",
              "    <tr>\n",
              "      <th>3</th>\n",
              "      <td>100263-2-0-126.wav</td>\n",
              "      <td>100263</td>\n",
              "      <td>63.000000</td>\n",
              "      <td>67.000000</td>\n",
              "      <td>1</td>\n",
              "      <td>5</td>\n",
              "      <td>2</td>\n",
              "      <td>children_playing</td>\n",
              "    </tr>\n",
              "    <tr>\n",
              "      <th>4</th>\n",
              "      <td>100263-2-0-137.wav</td>\n",
              "      <td>100263</td>\n",
              "      <td>68.500000</td>\n",
              "      <td>72.500000</td>\n",
              "      <td>1</td>\n",
              "      <td>5</td>\n",
              "      <td>2</td>\n",
              "      <td>children_playing</td>\n",
              "    </tr>\n",
              "    <tr>\n",
              "      <th>5</th>\n",
              "      <td>100263-2-0-143.wav</td>\n",
              "      <td>100263</td>\n",
              "      <td>71.500000</td>\n",
              "      <td>75.500000</td>\n",
              "      <td>1</td>\n",
              "      <td>5</td>\n",
              "      <td>2</td>\n",
              "      <td>children_playing</td>\n",
              "    </tr>\n",
              "    <tr>\n",
              "      <th>6</th>\n",
              "      <td>100263-2-0-161.wav</td>\n",
              "      <td>100263</td>\n",
              "      <td>80.500000</td>\n",
              "      <td>84.500000</td>\n",
              "      <td>1</td>\n",
              "      <td>5</td>\n",
              "      <td>2</td>\n",
              "      <td>children_playing</td>\n",
              "    </tr>\n",
              "    <tr>\n",
              "      <th>7</th>\n",
              "      <td>100263-2-0-3.wav</td>\n",
              "      <td>100263</td>\n",
              "      <td>1.500000</td>\n",
              "      <td>5.500000</td>\n",
              "      <td>1</td>\n",
              "      <td>5</td>\n",
              "      <td>2</td>\n",
              "      <td>children_playing</td>\n",
              "    </tr>\n",
              "    <tr>\n",
              "      <th>8</th>\n",
              "      <td>100263-2-0-36.wav</td>\n",
              "      <td>100263</td>\n",
              "      <td>18.000000</td>\n",
              "      <td>22.000000</td>\n",
              "      <td>1</td>\n",
              "      <td>5</td>\n",
              "      <td>2</td>\n",
              "      <td>children_playing</td>\n",
              "    </tr>\n",
              "    <tr>\n",
              "      <th>9</th>\n",
              "      <td>100648-1-0-0.wav</td>\n",
              "      <td>100648</td>\n",
              "      <td>4.823402</td>\n",
              "      <td>5.471927</td>\n",
              "      <td>2</td>\n",
              "      <td>10</td>\n",
              "      <td>1</td>\n",
              "      <td>car_horn</td>\n",
              "    </tr>\n",
              "    <tr>\n",
              "      <th>10</th>\n",
              "      <td>100648-1-1-0.wav</td>\n",
              "      <td>100648</td>\n",
              "      <td>8.998279</td>\n",
              "      <td>10.052132</td>\n",
              "      <td>2</td>\n",
              "      <td>10</td>\n",
              "      <td>1</td>\n",
              "      <td>car_horn</td>\n",
              "    </tr>\n",
              "    <tr>\n",
              "      <th>11</th>\n",
              "      <td>100648-1-2-0.wav</td>\n",
              "      <td>100648</td>\n",
              "      <td>16.699509</td>\n",
              "      <td>17.104837</td>\n",
              "      <td>2</td>\n",
              "      <td>10</td>\n",
              "      <td>1</td>\n",
              "      <td>car_horn</td>\n",
              "    </tr>\n",
              "    <tr>\n",
              "      <th>12</th>\n",
              "      <td>100648-1-3-0.wav</td>\n",
              "      <td>100648</td>\n",
              "      <td>17.631764</td>\n",
              "      <td>19.253075</td>\n",
              "      <td>2</td>\n",
              "      <td>10</td>\n",
              "      <td>1</td>\n",
              "      <td>car_horn</td>\n",
              "    </tr>\n",
              "    <tr>\n",
              "      <th>13</th>\n",
              "      <td>100648-1-4-0.wav</td>\n",
              "      <td>100648</td>\n",
              "      <td>25.332994</td>\n",
              "      <td>27.197502</td>\n",
              "      <td>2</td>\n",
              "      <td>10</td>\n",
              "      <td>1</td>\n",
              "      <td>car_horn</td>\n",
              "    </tr>\n",
              "    <tr>\n",
              "      <th>14</th>\n",
              "      <td>100652-3-0-0.wav</td>\n",
              "      <td>100652</td>\n",
              "      <td>0.000000</td>\n",
              "      <td>4.000000</td>\n",
              "      <td>1</td>\n",
              "      <td>2</td>\n",
              "      <td>3</td>\n",
              "      <td>dog_bark</td>\n",
              "    </tr>\n",
              "  </tbody>\n",
              "</table>\n",
              "</div>\n",
              "      <button class=\"colab-df-convert\" onclick=\"convertToInteractive('df-4929e0da-600d-4181-8c5a-7832d3f72173')\"\n",
              "              title=\"Convert this dataframe to an interactive table.\"\n",
              "              style=\"display:none;\">\n",
              "        \n",
              "  <svg xmlns=\"http://www.w3.org/2000/svg\" height=\"24px\"viewBox=\"0 0 24 24\"\n",
              "       width=\"24px\">\n",
              "    <path d=\"M0 0h24v24H0V0z\" fill=\"none\"/>\n",
              "    <path d=\"M18.56 5.44l.94 2.06.94-2.06 2.06-.94-2.06-.94-.94-2.06-.94 2.06-2.06.94zm-11 1L8.5 8.5l.94-2.06 2.06-.94-2.06-.94L8.5 2.5l-.94 2.06-2.06.94zm10 10l.94 2.06.94-2.06 2.06-.94-2.06-.94-.94-2.06-.94 2.06-2.06.94z\"/><path d=\"M17.41 7.96l-1.37-1.37c-.4-.4-.92-.59-1.43-.59-.52 0-1.04.2-1.43.59L10.3 9.45l-7.72 7.72c-.78.78-.78 2.05 0 2.83L4 21.41c.39.39.9.59 1.41.59.51 0 1.02-.2 1.41-.59l7.78-7.78 2.81-2.81c.8-.78.8-2.07 0-2.86zM5.41 20L4 18.59l7.72-7.72 1.47 1.35L5.41 20z\"/>\n",
              "  </svg>\n",
              "      </button>\n",
              "      \n",
              "  <style>\n",
              "    .colab-df-container {\n",
              "      display:flex;\n",
              "      flex-wrap:wrap;\n",
              "      gap: 12px;\n",
              "    }\n",
              "\n",
              "    .colab-df-convert {\n",
              "      background-color: #E8F0FE;\n",
              "      border: none;\n",
              "      border-radius: 50%;\n",
              "      cursor: pointer;\n",
              "      display: none;\n",
              "      fill: #1967D2;\n",
              "      height: 32px;\n",
              "      padding: 0 0 0 0;\n",
              "      width: 32px;\n",
              "    }\n",
              "\n",
              "    .colab-df-convert:hover {\n",
              "      background-color: #E2EBFA;\n",
              "      box-shadow: 0px 1px 2px rgba(60, 64, 67, 0.3), 0px 1px 3px 1px rgba(60, 64, 67, 0.15);\n",
              "      fill: #174EA6;\n",
              "    }\n",
              "\n",
              "    [theme=dark] .colab-df-convert {\n",
              "      background-color: #3B4455;\n",
              "      fill: #D2E3FC;\n",
              "    }\n",
              "\n",
              "    [theme=dark] .colab-df-convert:hover {\n",
              "      background-color: #434B5C;\n",
              "      box-shadow: 0px 1px 3px 1px rgba(0, 0, 0, 0.15);\n",
              "      filter: drop-shadow(0px 1px 2px rgba(0, 0, 0, 0.3));\n",
              "      fill: #FFFFFF;\n",
              "    }\n",
              "  </style>\n",
              "\n",
              "      <script>\n",
              "        const buttonEl =\n",
              "          document.querySelector('#df-4929e0da-600d-4181-8c5a-7832d3f72173 button.colab-df-convert');\n",
              "        buttonEl.style.display =\n",
              "          google.colab.kernel.accessAllowed ? 'block' : 'none';\n",
              "\n",
              "        async function convertToInteractive(key) {\n",
              "          const element = document.querySelector('#df-4929e0da-600d-4181-8c5a-7832d3f72173');\n",
              "          const dataTable =\n",
              "            await google.colab.kernel.invokeFunction('convertToInteractive',\n",
              "                                                     [key], {});\n",
              "          if (!dataTable) return;\n",
              "\n",
              "          const docLinkHtml = 'Like what you see? Visit the ' +\n",
              "            '<a target=\"_blank\" href=https://colab.research.google.com/notebooks/data_table.ipynb>data table notebook</a>'\n",
              "            + ' to learn more about interactive tables.';\n",
              "          element.innerHTML = '';\n",
              "          dataTable['output_type'] = 'display_data';\n",
              "          await google.colab.output.renderOutput(dataTable, element);\n",
              "          const docLink = document.createElement('div');\n",
              "          docLink.innerHTML = docLinkHtml;\n",
              "          element.appendChild(docLink);\n",
              "        }\n",
              "      </script>\n",
              "    </div>\n",
              "  </div>\n",
              "  "
            ]
          },
          "metadata": {},
          "execution_count": 4
        }
      ]
    },
    {
      "cell_type": "markdown",
      "source": [
        "* İlk amacımız, ses dosyalarını resimlere dönüştürüp etiketlerine göre bir klasöre atmak. Yani her etiket için bir klasör olacak(toplam 10 etiket olduğu için 10 klasör olacak) ve her klasör bir etiketin resimlerini tutacak. Mesela '8' adında klasör, 8(siren) etiketli ses dosyalarının resimlerini tutsun istiyoruz. \n",
        "\n",
        "* Bunun için evvela bu 10 klasörü içeren \"our_spectrograms\" adında bir klasör oluşturalım. Daha sonra bunun içine 0'dan 9'a klasör oluşturalım. "
      ],
      "metadata": {
        "id": "rMebK-4qwu3A"
      }
    },
    {
      "cell_type": "code",
      "source": [
        "os.mkdir(\"our_spectrograms\") #Ana Klasör"
      ],
      "metadata": {
        "id": "NYboqnA4x7qB"
      },
      "execution_count": null,
      "outputs": []
    },
    {
      "cell_type": "code",
      "source": [
        "#Toplam 10 Sınıf var\n",
        "num_of_classes=10 \n",
        "#0'dan 9'a isimlendirilmiş 10 klasörü bu dosya yoluna atacağız.\n",
        "main_folder= \"/content/drive/My Drive/global_ai_hub/our_spectrograms\" "
      ],
      "metadata": {
        "id": "99gays3ED9b2"
      },
      "execution_count": null,
      "outputs": []
    },
    {
      "cell_type": "markdown",
      "source": [
        "* Aşağıdaki komutu çalıştırdığımızda 0, 1, 2, 3, ... , 8, 9 isimlerinde 10 klasör oluşmuş olacak."
      ],
      "metadata": {
        "id": "KNUztC4dyd5x"
      }
    },
    {
      "cell_type": "code",
      "source": [
        "os.mkdir(main_folder)\n",
        "for i in range(num_of_classes):\n",
        "  os.mkdir(main_folder+\"/\"+str(i))"
      ],
      "metadata": {
        "id": "BTUsIKX99uAT"
      },
      "execution_count": null,
      "outputs": []
    },
    {
      "cell_type": "markdown",
      "source": [
        "## 1. Spectrogram Oluşturma \n",
        "\n",
        "* UrbanSound8K.tar.gz'den çıkarttığımız ses dosyalarını resime dönüştürelim.\n",
        "\n",
        "* Aşağıdaki fonksiyon, proje dökümanında vardı. Aynen aldım. Bu fonksiyona bir ses dosyası verirsen onu ham resme dönüştürüyor. Dolayısıyla elimizdeki tüm ses dosyalarını bu fonksiyona vermemiz gerekiyor. "
      ],
      "metadata": {
        "id": "GjCN6QbW6X4A"
      }
    },
    {
      "cell_type": "code",
      "source": [
        "def create_spectrogram(y):\n",
        "  spec= librosa.feature.melspectrogram(y=y)\n",
        "  spec_conv=librosa.amplitude_to_db(spec, ref=np.max)\n",
        "  return spec_conv #Ham Resim"
      ],
      "metadata": {
        "id": "Y_LiGxpo5PEJ"
      },
      "execution_count": null,
      "outputs": []
    },
    {
      "cell_type": "markdown",
      "source": [
        "* Aşağıdaki fonksiyon ise ham resmi gerçek renkli resme dönüştürecek ve kaydedecek.\n",
        "\n",
        "* Bu foknsiyon iki parametre alıyor:\n",
        "\n",
        "=> SOUND_PATH: Ses dosyasının dosya yolu(/content/drive/My Drive/global_ai_hub/UrbanSound8K/sound/fold1/7061-6-0-0.wav gibi)\n",
        "\n",
        "=> IMAGE_PATH: Sesi resme dönüştürdükten sonra resmi atacağımız dosya yolu(/content/drive/My Drive/global_ai_hub/our_spectrograms/6 gibi)"
      ],
      "metadata": {
        "id": "xN4di9ypzfJD"
      }
    },
    {
      "cell_type": "code",
      "source": [
        "def save_image(SOUND_PATH, IMAGE_PATH):\n",
        "  y, sr = librosa.load(SOUND_PATH)\n",
        "  spec_conv=create_spectrogram(y)\n",
        "  librosa.display.specshow(spec_conv, sr=sr)\n",
        "  plt.savefig(IMAGE_PATH, bbox_inches='tight', pad_inches=0, transparent=True) #Resmi IMAGE_PATH'e kaydediyor.\n",
        "  plt.close()"
      ],
      "metadata": {
        "id": "nBZVsq9e_tce"
      },
      "execution_count": null,
      "outputs": []
    },
    {
      "cell_type": "markdown",
      "source": [
        "# NOT: UrbanSound8K.tar.gz sıkıştırılmış dosyasını çıkardğımızda ses dosyalarının ayrı ayrı 10 fold ile tutulduğunu görüyoruz. Dolayısıyla tüm ses dosyalarını resme dönüştürebilmek için sırasıyla tüm 10 fold'u da gezip tüm ses dosyalarını okumamız lazım.\n",
        "\n",
        "# Aşağıdaki kod bloğunda range(1,6) ile dönen dış for'un aslında range(1,11) ile dönmesi gerekirdi. Yani ilk 5 fold'u değil, 10 fold'un hepsini okuması gerekirdi. Ancak sadece 5 ses fold'undan veri alabiliyorum. Çünkü daha fazla fold'dan veri almaya kalkıştığımda GPU yeterli gelmiyor ve \"OUT OF MEMORY\" hatasıyla karşılaşıyorum.\n",
        "\n",
        "# Bu yüzden sadece ses verilerinin nasıl resme dönüştürüldüğünü göstermek amacıyla bu kod bloklarını yazdık. Ancak bize tüm ses dosyalarının resim hali lazım olduğu için Global AI Hub'ın bize sağladığı ses resimlerini doğrudan eğitim için kullanacağız."
      ],
      "metadata": {
        "id": "lwxlwxALFvTx"
      }
    },
    {
      "cell_type": "code",
      "source": [
        "# fold1, fold2, fold3..., fold5 için 1,2,3,4,5 sayılarını dönsün:\n",
        "for folder_index in range(1,6):\n",
        "  #/content/drive/My Drive/global_ai_hub/UrbanSound8K/audio/fold1 gibi dosya yolları oluşturalım:\n",
        "  sound_folder=\"/content/drive/My Drive/global_ai_hub/UrbanSound8K/audio/fold\"+str(folder_index)\n",
        "  #os.listdir linux'taki ls komutu ile aynı. İçindeki dosya isimlerinin hepsini liste yapıp bize veriyor.\n",
        "  for sound_file in os.listdir(sound_folder):\n",
        "    if sound_file.endswith(\".wav\"): #Sadece .wav uzantılı dosyaları alsın.\n",
        "        sound_label=sound_file.split(\"-\")[1] # Ses dosyasının etiketi. 3(dog bark) gibi\n",
        "        sound_name=sound_file.split(\".\")[0] #Ses dosyasının uzantısız ismi. 9223-2-0-4.wav'ın 9223-2-0-4 ismi gibi\n",
        "        save_image(sound_folder+\"/\"+sound_file, main_folder+\"/\"+sound_label+\"/\"+sound_name+\".png\") #Bir üstteki fonksiyon ile resmi kaydedelim."
      ],
      "metadata": {
        "id": "tTomQKS2CAME"
      },
      "execution_count": null,
      "outputs": []
    },
    {
      "cell_type": "markdown",
      "source": [
        "* Artık resimleri oluşturduk. Drive'daki our_spectrograms resim dosyasının içindeki dosyalara bakarsan resimlerin etiketlerine göre dosyalara kaydedilmiş olduklarını görebilirsin. "
      ],
      "metadata": {
        "id": "XqDulgNE5A46"
      }
    },
    {
      "cell_type": "markdown",
      "source": [
        "## 2. Önişleme - Notebook\n",
        "a. Görüntüleri (spectrogramları) sırasıyla okuyarak, grayscale dönüşümü, resizing ve normalizasyon yapın.\n",
        "\n",
        "b. Görüntüleri ait oldukları etiketlerle birlikte, [görüntü, etiket] formatında bir listeye ekleyin.\n",
        "\n",
        "c. Bu listeyi kullanarak, X_train, y_train, X_val, y_val, X_test ve y_test veri setlerini oluşturun.\n",
        "\n",
        "d. Bu veri setlerini bilgisayarınıza kaydedin.\n"
      ],
      "metadata": {
        "id": "5a1Pl5Ra6kTc"
      }
    },
    {
      "cell_type": "markdown",
      "source": [
        "* Artık ses dosyalarıyla bir işimiz kalmadı. Ses dosyalarını renkli resimlere dönüştürdük ve etiketlerine göre birbirlerinden ayırdık.\n",
        "\n",
        "# Daha önce söylediğimiz gibi; GPU kısıtlamasından dolayı ses dosyalarının tamamını resme dönüştüremedik. Ancak Global AI Hub, proje dökümanında ses dosyalarının tamamının spektrogramlarını bizimle paylaşmış.\n",
        "\n",
        "\"Değerlendirme sadece “Önişleme” ve “Model Hazırlanması ve Eğitilmesi” notebookları üzerinden olacaktır! Sizden 2 farklı notebook beklenmektedir. Spectrogram oluşturma kısmını isteyen arkadaşlarımız yapmayarak, hazırlanmış spectrogramları aşağıdaki linkten indirerek çalışmalarına bunun üzerinden devam edebilirler.\"\n",
        "\n",
        "Spectrograms:https://drive.google.com/drive/folders/1xey3vAVNDjWxnSfhuUsf_5dGANZWmCog?usp=sharing\n",
        "\n",
        "# Bu linkteki \"spectrograms\" dosyasını kendi drive'ımıza şöyle alıyoruz: \n",
        "\n",
        "* 1-) Bu linke tıkladıktan sonra sol sütunda bulunan \"Shared With Me(Benimle Paylaşılanlar)\" butonuna tıklanır. \n",
        "\n",
        "* 2-) En üstte bulunan \"spectrograms\" klasörüne sağ tıklanır ve \"Add Shortcut to Drive(Drive'a Kısayol Ekle)\" butonuna tıklanır. \n",
        "\n",
        "3-) Ekrana gelen pencereyle istenilen konuma dosya getirilir ve \"Add Shortcut(Kısayol Ekle)\" butonuna basılır.\n",
        "\n",
        "Böylece Global AI Hub'ın \"spectrograms\" klasörü kendi drive'ımıza gelmiş olur. Ben bu klasörü \"global_ai_hub\" klasörünün içerisine gönderdim."
      ],
      "metadata": {
        "id": "R_tmUO7y5dDl"
      }
    },
    {
      "cell_type": "code",
      "source": [
        "main_folder=\"/content/drive/My Drive/global_ai_hub/spectrograms\""
      ],
      "metadata": {
        "id": "CMxrDXYVYSZ5"
      },
      "execution_count": 5,
      "outputs": []
    },
    {
      "cell_type": "code",
      "source": [
        "# Global AI Hub'ın bize sağladığı spectrograms dosyasının içindeki etiket dosyaları:\n",
        "!ls \"/content/drive/My Drive/global_ai_hub/spectrograms\""
      ],
      "metadata": {
        "colab": {
          "base_uri": "https://localhost:8080/"
        },
        "id": "IUrfnGjkMYgF",
        "outputId": "35ccca79-71f8-4474-f61f-13f3f618cd1e"
      },
      "execution_count": 9,
      "outputs": [
        {
          "output_type": "stream",
          "name": "stdout",
          "text": [
            "0  1  2  3  4  5  6  7\t8  9\n"
          ]
        }
      ]
    },
    {
      "cell_type": "markdown",
      "source": [
        "### Ön işleme aşamasında üç hedef var: \n",
        "\n",
        "=> İlk önce renkli resimleri gri hale çevireceğiz. \n",
        "\n",
        "=> Resimlerin boyutları birbirinden farklı. CNN'de eğitim yapabilmemiz için resimleri aynı boyuta sokmamız şart. Bunun için resimlerin hepsini aynı boyuta sokacağız. (ben hepsini (100,100) formuna sokmayı tercih ettim)\n",
        "\n",
        "=> Resimler 0-255 arası değerler alıyor. 100, 200 gibi sayılarla eğitim yapmak bir hesap yükü getiriyor. Bu yüzden bu piksel değerlerini 0(min)-1(max) arasına çekmek(normalizasyon) eğitimi kolaylaştıracaktır."
      ],
      "metadata": {
        "id": "Pd6BWlm-52CS"
      }
    },
    {
      "cell_type": "code",
      "source": [
        "X=[] #Tüm resimleri tutacak dizi\n",
        "y=[] #Tüm resimlerin etiketlerini tutacak dizi\n",
        "# Her etiket dosyası ismi için(0, 1, 2, 3, 4, ..., 8, 9) sayı dönsün: \n",
        "for label in range(10):\n",
        "  #Linux'taki ls komutunda olduğu gibi her etiket dosyasının içine baksın ve içindeki tüm dosyaları versin.\n",
        "  images=os.listdir(main_folder+\"/\"+str(label))  \n",
        "  # İçteki for döngüsü ile sırasıyla tüm resimleri gezsin.\n",
        "  for image_index in range(len(images)):\n",
        "    img_gray=cv2.imread(main_folder+\"/\"+str(label)+\"/\"+images[image_index],0) #Renkli resmi gri olarak(0:gri, 1:renkli) oku.\n",
        "    resized_gray = cv2.resize(img_gray, (100,100) , interpolation = cv2.INTER_AREA) #Resmi (100,100) boyutuna getir.\n",
        "    #Resimlerdeki piksellerdeki en büyük değer 255 olduğu için tüm pikselleri 255'e böl.\n",
        "    normalized_gray=resized_gray/255 #Bu sayede tüm piksel değerleri 0-1 arasında olacak.\n",
        "    X.append(normalized_gray) #İşlenmiş resmi X listesine ekle.\n",
        "    y.append(label) #İşlenmiş resmin etiketini y listesine ekle."
      ],
      "metadata": {
        "id": "AWD9we1WcCGL"
      },
      "execution_count": 11,
      "outputs": []
    },
    {
      "cell_type": "markdown",
      "source": [
        "* Tüm resimleri X listesine, etiketlerini de y listesine ekledik.\n",
        "\n",
        "* Toplam Resim Sayısı=8732"
      ],
      "metadata": {
        "id": "o00x64R6BJPo"
      }
    },
    {
      "cell_type": "code",
      "source": [
        "print(len(X))\n",
        "print(len(y))"
      ],
      "metadata": {
        "colab": {
          "base_uri": "https://localhost:8080/"
        },
        "id": "045Xlc-Cd-q_",
        "outputId": "7325e35c-ba2b-4b06-d02b-1d72c3ed95b3"
      },
      "execution_count": 12,
      "outputs": [
        {
          "output_type": "stream",
          "name": "stdout",
          "text": [
            "8732\n",
            "8732\n"
          ]
        }
      ]
    },
    {
      "cell_type": "markdown",
      "source": [
        "* X'i(resimlerin listesini) ve y'yi(etiketlerinin listesini) train, validation ve test için böleceğiz. Ama bir problem var :)\n",
        "\n",
        "* Resimleri ve etiketleri eklerken dikkat ettiysen 0,0,0,0,0...0,1,1,1,...,1,2,2,2,2,2...8,8,8,8,8...,8,8,9,9,9,9,...,9,9 şeklinde ekledik. Gösterelim:"
      ],
      "metadata": {
        "id": "TaRW_zyoBW9i"
      }
    },
    {
      "cell_type": "code",
      "source": [
        "print(y[0])\n",
        "print(y[1200])\n",
        "print(y[1500])\n",
        "print(y[2500])\n",
        "print(y[3500])\n",
        "print(y[4500])\n",
        "print(y[5500])\n",
        "print(y[6500])\n",
        "print(y[7500])\n",
        "print(y[8500])"
      ],
      "metadata": {
        "colab": {
          "base_uri": "https://localhost:8080/"
        },
        "id": "o7Uj8QltB1RC",
        "outputId": "ffa05aa9-4580-47a6-bd37-d3eefe631ee3"
      },
      "execution_count": 22,
      "outputs": [
        {
          "output_type": "stream",
          "name": "stdout",
          "text": [
            "0\n",
            "1\n",
            "2\n",
            "3\n",
            "4\n",
            "5\n",
            "6\n",
            "7\n",
            "8\n",
            "9\n"
          ]
        }
      ]
    },
    {
      "cell_type": "markdown",
      "source": [
        "* Eğer veriyi bu halde bölmeye kalkarsak mesela train kısmında 0'dan 7'e kadar, valid kısmında 7'den 8'e, test kısmında 8'den 9'a kadarki etiketli resimleri almak gibi bir senaryo oluşur. Dolayısıyla train verisiyle eğitilen model 7, 8 ve 9 etiketlerini göremez. Dolayısıyla X ve y listesini(aynı hizada) karıştırmamız lazım ki train, valid ve test bölümünde her bölüm için tüm sınıflar var olabilsin."
      ],
      "metadata": {
        "id": "LFOhWM0aCOTe"
      }
    },
    {
      "cell_type": "markdown",
      "source": [
        "* Aşağıdaki fonksiyonu internetten buldum. X'i ve y'yi hizalayıp karıştırıyor, sonra tekrar X ve y olarak bize veriyor. Bu şekilde bu problemden de kurtulmuş olduk."
      ],
      "metadata": {
        "id": "8o9K7_qXDKbJ"
      }
    },
    {
      "cell_type": "code",
      "source": [
        "import random\n",
        "def shuffle_xy(X,y):\n",
        "  z = list(zip(X, y))\n",
        "  random.shuffle(z)\n",
        "  X, y = zip(*z)\n",
        "  return X, y"
      ],
      "metadata": {
        "id": "HD01Z_MQfVqY"
      },
      "execution_count": 23,
      "outputs": []
    },
    {
      "cell_type": "code",
      "source": [
        "# Örnek:\n",
        "veri=[1, 2, 3]\n",
        "etiket=[\"bir\", \"iki\", \"üç\"]\n",
        "karıştırılmış_veri, karıştırılmış_etiket=shuffle_xy(veri, etiket)\n",
        "print(karıştırılmış_veri)\n",
        "print(karıştırılmış_etiket)"
      ],
      "metadata": {
        "colab": {
          "base_uri": "https://localhost:8080/"
        },
        "id": "wPxze0SADmUw",
        "outputId": "8050dac9-535f-446e-b7dc-1171ece2faf8"
      },
      "execution_count": 24,
      "outputs": [
        {
          "output_type": "stream",
          "name": "stdout",
          "text": [
            "(3, 1, 2)\n",
            "('üç', 'bir', 'iki')\n"
          ]
        }
      ]
    },
    {
      "cell_type": "code",
      "source": [
        "X, y=shuffle_xy(X, y) #Resim listesi(X) ve etiket listesi(y)'ni aynı hizada karıştıralım."
      ],
      "metadata": {
        "id": "uHVlP2M6guwK"
      },
      "execution_count": 25,
      "outputs": []
    },
    {
      "cell_type": "markdown",
      "source": [
        "* Artık veriyi train(%85), valid(%10), test(%5) olarak bölebiliriz. Bölme oranları istenildiği gibi oluşturulabilir."
      ],
      "metadata": {
        "id": "mHP6_SLfEOUi"
      }
    },
    {
      "cell_type": "code",
      "source": [
        "train_per=0.85\n",
        "val_per=0.1\n",
        "test_per=0.05\n",
        "total_size=len(X) #Elimizdeki toplam veri sayısı\n",
        "\n",
        "# 0'dan başlayıp toplam veri sayısının %85'ine kadarki kısmı train için ayır. Aynı şeyi etiketleri için de yap.\n",
        "X_train=np.array(X[:int(total_size*train_per)]) \n",
        "y_train=np.array(y[:int(total_size*train_per)]) \n",
        "\n",
        "# X'in %85'lik kısmının son elemanından başlayıp %95'lik kısmına kadar validasyon verisi için ayır. Aynı şeyi etiketleri için de yap.\n",
        "X_val=np.array(X[int(total_size*train_per):int(total_size*(train_per+val_per))]) \n",
        "y_val=np.array(y[int(total_size*train_per):int(total_size*(train_per+val_per))])\n",
        "\n",
        "# X'in %95'lik kısmının son elemanından başlayıp X'in son elemanına kadar ayır. Aynı şeyi etiketleri için de yap.\n",
        "X_test=np.array(X[int(total_size*(train_per+val_per)):])\n",
        "y_test=np.array(y[int(total_size*(train_per+val_per)):])"
      ],
      "metadata": {
        "id": "S4yajbYKezRk"
      },
      "execution_count": 26,
      "outputs": []
    },
    {
      "cell_type": "markdown",
      "source": [
        "* Not: X ve y'yi ayrı ayrı np.array fonksiyonuna soktuk. Yani hepsini listeden numpy array'ine dönüştürdük. Çünkü kuracağımız model sadece numpy array'lerini kabul ediyor."
      ],
      "metadata": {
        "id": "nZNbKDW9FwAV"
      }
    },
    {
      "cell_type": "markdown",
      "source": [
        "* Bölme işlemi sonucu:\n",
        "\n",
        "Train Veri Sayısı: 7422\n",
        "\n",
        "Validasyon Veri Sayısı: 873\n",
        "\n",
        "Test Veri Sayısı: 437"
      ],
      "metadata": {
        "id": "a7dJBOBQGFhb"
      }
    },
    {
      "cell_type": "code",
      "source": [
        "print(f\"Len of X_train:{len(X_train)}\")\n",
        "print(f\"Len of y_train:{len(y_train)}\")\n",
        "print(f\"Len of X_val:{len(X_val)}\")\n",
        "print(f\"Len of y_val:{len(y_val)}\")\n",
        "print(f\"Len of X_test:{len(X_test)}\")\n",
        "print(f\"Len of y_test:{len(y_test)}\")"
      ],
      "metadata": {
        "colab": {
          "base_uri": "https://localhost:8080/"
        },
        "id": "2ediAnlaiNnb",
        "outputId": "779d201f-3ee4-4a86-99e8-6efff638f8dc"
      },
      "execution_count": 27,
      "outputs": [
        {
          "output_type": "stream",
          "name": "stdout",
          "text": [
            "Len of X_train:7422\n",
            "Len of y_train:7422\n",
            "Len of X_val:873\n",
            "Len of y_val:873\n",
            "Len of X_test:437\n",
            "Len of y_test:437\n"
          ]
        }
      ]
    },
    {
      "cell_type": "markdown",
      "source": [
        "* Eğitim için kullanılacak X_train array'inin boyutu (3920, 100, 100) şeklinde. Bunun anlamı; X_train içinde (100,100) boyutunda 3920 adet resim var.\n",
        "\n",
        "* y_train array'inin boyutu ise (3920,) şeklinde. Bunun anlamı; 3920 adet 0 boyutlu(bildiğimiz 3, 5 gibi sayılar) etiket var."
      ],
      "metadata": {
        "id": "HUixGWUCGW_o"
      }
    },
    {
      "cell_type": "code",
      "source": [
        "print(X_train.shape)\n",
        "print(y_train.shape)\n",
        "print(\"y_train'nin ilk 10 elemanı:\")\n",
        "print(y_train[0:10])"
      ],
      "metadata": {
        "colab": {
          "base_uri": "https://localhost:8080/"
        },
        "id": "MngZh6Otb6At",
        "outputId": "f2ce0b6b-7082-4fe8-ddde-48fc93eb26aa"
      },
      "execution_count": 28,
      "outputs": [
        {
          "output_type": "stream",
          "name": "stdout",
          "text": [
            "(7422, 100, 100)\n",
            "(7422,)\n",
            "y_train'nin ilk 10 elemanı:\n",
            "[2 3 4 7 8 8 9 6 4 0]\n"
          ]
        }
      ]
    },
    {
      "cell_type": "markdown",
      "source": [
        "## 3. Model Hazırlanması ve Eğitimi - Notebook\n",
        "a. Bir CNN modeli hazırlayın.\n",
        "\n",
        "b. Modeli hazırlamış olduğunuz veriyi kullanarak eğitin.\n",
        "\n",
        "c. Modelin performans metriklerini, loss ve accuracy grafiklerini ekrana yazdırın.\n",
        "\n",
        "d. Aldığınız sonuçlara göre hyperparameter optimization yapın."
      ],
      "metadata": {
        "id": "VBDq2yvB6t5g"
      }
    },
    {
      "cell_type": "code",
      "source": [
        "# Konvolüsyon Katmanları:\n",
        "model=tf.keras.Sequential()\n",
        "model.add(tf.keras.layers.Conv2D(32,\n",
        "                                 kernel_size=(3,3),\n",
        "                                 strides=(1,1),\n",
        "                                 padding=\"same\",\n",
        "                                 activation=\"relu\",\n",
        "                                 input_shape=(100,100,1))) # Ön İşlemede tüm resimleri sabit (100,100) yapmıştık. 1 ifadesi resimlerin gri olduğunu\n",
        "model.add(tf.keras.layers.MaxPool2D((2,2)))                # belirtiyor.\n",
        "model.add(tf.keras.layers.Conv2D(64,\n",
        "                                 kernel_size=(3,3),\n",
        "                                 strides=(1,1),\n",
        "                                 padding=\"same\",\n",
        "                                 activation=\"relu\"))\n",
        "model.add(tf.keras.layers.MaxPool2D((2,2)))\n",
        "model.add(tf.keras.layers.Conv2D(128,\n",
        "                                 kernel_size=(3,3),\n",
        "                                 strides=(1,1),\n",
        "                                 padding=\"same\",\n",
        "                                 activation=\"relu\"))\n",
        "model.add(tf.keras.layers.MaxPool2D((2,2)))\n",
        "model.add(tf.keras.layers.Conv2D(256,\n",
        "                                 kernel_size=(3,3),\n",
        "                                 strides=(1,1),\n",
        "                                 padding=\"same\",\n",
        "                                 activation=\"relu\"))\n",
        "model.add(tf.keras.layers.MaxPool2D((2,2)))\n",
        "\n",
        "#  Neural Network Katmanı:\n",
        "model.add(tf.keras.layers.Flatten())\n",
        "model.add(tf.keras.layers.Dense(512, activation=\"relu\"))\n",
        "model.add(tf.keras.layers.Dropout(0.81))\n",
        "model.add(tf.keras.layers.Dense(1024, activation=\"relu\"))\n",
        "model.add(tf.keras.layers.Dropout(0.81))\n",
        "model.add(tf.keras.layers.Dense(10, activation=\"softmax\"))"
      ],
      "metadata": {
        "id": "06ko42NE60fj"
      },
      "execution_count": 91,
      "outputs": []
    },
    {
      "cell_type": "code",
      "source": [
        "model.compile(optimizer=\"adam\", loss=\"sparse_categorical_crossentropy\", metrics=[\"accuracy\"])"
      ],
      "metadata": {
        "id": "cY3SGWe2_PLI"
      },
      "execution_count": 92,
      "outputs": []
    },
    {
      "cell_type": "code",
      "source": [
        "results=model.fit(X_train, y_train, batch_size=128, epochs=50, validation_data=(X_val, y_val))"
      ],
      "metadata": {
        "id": "hAvyi1DX_aIk",
        "colab": {
          "base_uri": "https://localhost:8080/"
        },
        "outputId": "cb466e73-886f-42a0-c70d-8f851603b3ee"
      },
      "execution_count": 93,
      "outputs": [
        {
          "output_type": "stream",
          "name": "stdout",
          "text": [
            "Epoch 1/50\n",
            "58/58 [==============================] - 4s 66ms/step - loss: 2.1577 - accuracy: 0.1830 - val_loss: 1.8330 - val_accuracy: 0.3448\n",
            "Epoch 2/50\n",
            "58/58 [==============================] - 4s 64ms/step - loss: 1.7834 - accuracy: 0.3376 - val_loss: 1.3829 - val_accuracy: 0.5086\n",
            "Epoch 3/50\n",
            "58/58 [==============================] - 4s 64ms/step - loss: 1.4399 - accuracy: 0.4776 - val_loss: 1.0321 - val_accuracy: 0.6609\n",
            "Epoch 4/50\n",
            "58/58 [==============================] - 4s 64ms/step - loss: 1.1676 - accuracy: 0.5951 - val_loss: 0.8770 - val_accuracy: 0.7010\n",
            "Epoch 5/50\n",
            "58/58 [==============================] - 4s 65ms/step - loss: 0.9627 - accuracy: 0.6754 - val_loss: 0.7382 - val_accuracy: 0.7663\n",
            "Epoch 6/50\n",
            "58/58 [==============================] - 4s 63ms/step - loss: 0.8185 - accuracy: 0.7313 - val_loss: 0.6758 - val_accuracy: 0.7812\n",
            "Epoch 7/50\n",
            "58/58 [==============================] - 4s 62ms/step - loss: 0.6819 - accuracy: 0.7728 - val_loss: 0.4858 - val_accuracy: 0.8580\n",
            "Epoch 8/50\n",
            "58/58 [==============================] - 4s 65ms/step - loss: 0.5894 - accuracy: 0.8111 - val_loss: 0.3686 - val_accuracy: 0.8935\n",
            "Epoch 9/50\n",
            "58/58 [==============================] - 4s 64ms/step - loss: 0.5065 - accuracy: 0.8395 - val_loss: 0.4119 - val_accuracy: 0.8694\n",
            "Epoch 10/50\n",
            "58/58 [==============================] - 4s 62ms/step - loss: 0.4633 - accuracy: 0.8553 - val_loss: 0.3470 - val_accuracy: 0.8935\n",
            "Epoch 11/50\n",
            "58/58 [==============================] - 4s 62ms/step - loss: 0.4089 - accuracy: 0.8712 - val_loss: 0.3517 - val_accuracy: 0.8935\n",
            "Epoch 12/50\n",
            "58/58 [==============================] - 4s 62ms/step - loss: 0.3521 - accuracy: 0.8878 - val_loss: 0.2665 - val_accuracy: 0.9175\n",
            "Epoch 13/50\n",
            "58/58 [==============================] - 4s 62ms/step - loss: 0.3476 - accuracy: 0.8887 - val_loss: 0.2541 - val_accuracy: 0.9244\n",
            "Epoch 14/50\n",
            "58/58 [==============================] - 4s 62ms/step - loss: 0.2918 - accuracy: 0.9107 - val_loss: 0.2639 - val_accuracy: 0.9152\n",
            "Epoch 15/50\n",
            "58/58 [==============================] - 4s 62ms/step - loss: 0.2782 - accuracy: 0.9108 - val_loss: 0.2492 - val_accuracy: 0.9221\n",
            "Epoch 16/50\n",
            "58/58 [==============================] - 4s 62ms/step - loss: 0.2623 - accuracy: 0.9179 - val_loss: 0.2772 - val_accuracy: 0.9221\n",
            "Epoch 17/50\n",
            "58/58 [==============================] - 4s 64ms/step - loss: 0.2048 - accuracy: 0.9345 - val_loss: 0.2122 - val_accuracy: 0.9427\n",
            "Epoch 18/50\n",
            "58/58 [==============================] - 4s 62ms/step - loss: 0.1781 - accuracy: 0.9431 - val_loss: 0.2126 - val_accuracy: 0.9450\n",
            "Epoch 19/50\n",
            "58/58 [==============================] - 4s 61ms/step - loss: 0.1814 - accuracy: 0.9414 - val_loss: 0.2634 - val_accuracy: 0.9278\n",
            "Epoch 20/50\n",
            "58/58 [==============================] - 4s 64ms/step - loss: 0.1767 - accuracy: 0.9422 - val_loss: 0.2341 - val_accuracy: 0.9347\n",
            "Epoch 21/50\n",
            "58/58 [==============================] - 4s 62ms/step - loss: 0.1747 - accuracy: 0.9472 - val_loss: 0.2870 - val_accuracy: 0.9359\n",
            "Epoch 22/50\n",
            "58/58 [==============================] - 4s 61ms/step - loss: 0.1640 - accuracy: 0.9477 - val_loss: 0.2298 - val_accuracy: 0.9393\n",
            "Epoch 23/50\n",
            "58/58 [==============================] - 4s 62ms/step - loss: 0.1268 - accuracy: 0.9607 - val_loss: 0.2557 - val_accuracy: 0.9313\n",
            "Epoch 24/50\n",
            "58/58 [==============================] - 4s 62ms/step - loss: 0.1282 - accuracy: 0.9601 - val_loss: 0.2405 - val_accuracy: 0.9393\n",
            "Epoch 25/50\n",
            "58/58 [==============================] - 4s 61ms/step - loss: 0.1016 - accuracy: 0.9683 - val_loss: 0.2962 - val_accuracy: 0.9267\n",
            "Epoch 26/50\n",
            "58/58 [==============================] - 4s 62ms/step - loss: 0.1152 - accuracy: 0.9627 - val_loss: 0.2302 - val_accuracy: 0.9450\n",
            "Epoch 27/50\n",
            "58/58 [==============================] - 4s 62ms/step - loss: 0.1184 - accuracy: 0.9654 - val_loss: 0.3064 - val_accuracy: 0.9267\n",
            "Epoch 28/50\n",
            "58/58 [==============================] - 4s 62ms/step - loss: 0.1110 - accuracy: 0.9631 - val_loss: 0.3230 - val_accuracy: 0.9324\n",
            "Epoch 29/50\n",
            "58/58 [==============================] - 4s 62ms/step - loss: 0.0962 - accuracy: 0.9696 - val_loss: 0.2969 - val_accuracy: 0.9359\n",
            "Epoch 30/50\n",
            "58/58 [==============================] - 4s 62ms/step - loss: 0.0791 - accuracy: 0.9767 - val_loss: 0.2534 - val_accuracy: 0.9473\n",
            "Epoch 31/50\n",
            "58/58 [==============================] - 4s 64ms/step - loss: 0.0792 - accuracy: 0.9739 - val_loss: 0.2688 - val_accuracy: 0.9462\n",
            "Epoch 32/50\n",
            "58/58 [==============================] - 4s 62ms/step - loss: 0.0846 - accuracy: 0.9728 - val_loss: 0.2298 - val_accuracy: 0.9473\n",
            "Epoch 33/50\n",
            "58/58 [==============================] - 4s 62ms/step - loss: 0.0779 - accuracy: 0.9771 - val_loss: 0.2558 - val_accuracy: 0.9450\n",
            "Epoch 34/50\n",
            "58/58 [==============================] - 4s 62ms/step - loss: 0.0621 - accuracy: 0.9817 - val_loss: 0.2533 - val_accuracy: 0.9462\n",
            "Epoch 35/50\n",
            "58/58 [==============================] - 4s 64ms/step - loss: 0.0625 - accuracy: 0.9797 - val_loss: 0.2514 - val_accuracy: 0.9542\n",
            "Epoch 36/50\n",
            "58/58 [==============================] - 4s 62ms/step - loss: 0.1125 - accuracy: 0.9679 - val_loss: 0.2987 - val_accuracy: 0.9381\n",
            "Epoch 37/50\n",
            "58/58 [==============================] - 4s 65ms/step - loss: 0.1024 - accuracy: 0.9682 - val_loss: 0.2703 - val_accuracy: 0.9347\n",
            "Epoch 38/50\n",
            "58/58 [==============================] - 4s 62ms/step - loss: 0.0844 - accuracy: 0.9739 - val_loss: 0.3413 - val_accuracy: 0.9370\n",
            "Epoch 39/50\n",
            "58/58 [==============================] - 4s 61ms/step - loss: 0.0924 - accuracy: 0.9724 - val_loss: 0.2921 - val_accuracy: 0.9381\n",
            "Epoch 40/50\n",
            "58/58 [==============================] - 4s 61ms/step - loss: 0.0686 - accuracy: 0.9798 - val_loss: 0.3013 - val_accuracy: 0.9416\n",
            "Epoch 41/50\n",
            "58/58 [==============================] - 4s 60ms/step - loss: 0.0541 - accuracy: 0.9848 - val_loss: 0.3403 - val_accuracy: 0.9313\n",
            "Epoch 42/50\n",
            "58/58 [==============================] - 4s 61ms/step - loss: 0.0654 - accuracy: 0.9791 - val_loss: 0.3216 - val_accuracy: 0.9416\n",
            "Epoch 43/50\n",
            "58/58 [==============================] - 4s 63ms/step - loss: 0.0647 - accuracy: 0.9814 - val_loss: 0.3505 - val_accuracy: 0.9404\n",
            "Epoch 44/50\n",
            "58/58 [==============================] - 3s 60ms/step - loss: 0.0498 - accuracy: 0.9842 - val_loss: 0.2428 - val_accuracy: 0.9473\n",
            "Epoch 45/50\n",
            "58/58 [==============================] - 4s 63ms/step - loss: 0.0680 - accuracy: 0.9794 - val_loss: 0.3047 - val_accuracy: 0.9450\n",
            "Epoch 46/50\n",
            "58/58 [==============================] - 4s 61ms/step - loss: 0.0530 - accuracy: 0.9818 - val_loss: 0.2651 - val_accuracy: 0.9507\n",
            "Epoch 47/50\n",
            "58/58 [==============================] - 3s 60ms/step - loss: 0.0509 - accuracy: 0.9838 - val_loss: 0.3105 - val_accuracy: 0.9427\n",
            "Epoch 48/50\n",
            "58/58 [==============================] - 4s 60ms/step - loss: 0.0462 - accuracy: 0.9856 - val_loss: 0.3924 - val_accuracy: 0.9313\n",
            "Epoch 49/50\n",
            "58/58 [==============================] - 4s 61ms/step - loss: 0.0651 - accuracy: 0.9819 - val_loss: 0.2783 - val_accuracy: 0.9462\n",
            "Epoch 50/50\n",
            "58/58 [==============================] - 4s 60ms/step - loss: 0.0676 - accuracy: 0.9795 - val_loss: 0.3417 - val_accuracy: 0.9473\n"
          ]
        }
      ]
    },
    {
      "cell_type": "code",
      "source": [
        "plt.plot(results.history[\"loss\"], label=\"loss\")\n",
        "plt.plot(results.history[\"val_loss\"], label=\"val_loss\")\n",
        "plt.xlabel(\"Epochs\")\n",
        "plt.ylabel(\"Loss\")\n",
        "plt.legend()\n",
        "plt.show()"
      ],
      "metadata": {
        "id": "rQPwceHn_nvK",
        "colab": {
          "base_uri": "https://localhost:8080/",
          "height": 279
        },
        "outputId": "61bd99e8-ffdb-49de-b913-9f9a0d39843e"
      },
      "execution_count": 94,
      "outputs": [
        {
          "output_type": "display_data",
          "data": {
            "text/plain": [
              "<Figure size 432x288 with 1 Axes>"
            ],
            "image/png": "[encoded data removed]"
          },
          "metadata": {
            "needs_background": "light"
          }
        }
      ]
    },
    {
      "cell_type": "code",
      "source": [
        "plt.plot(results.history[\"accuracy\"], label=\"accuracy\")\n",
        "plt.plot(results.history[\"val_accuracy\"], label=\"val_accuracy\")\n",
        "plt.xlabel(\"Epochs\")\n",
        "plt.ylabel(\"Accuracy\")\n",
        "plt.legend()\n",
        "plt.show()"
      ],
      "metadata": {
        "id": "3JHx_bwv_yfg",
        "colab": {
          "base_uri": "https://localhost:8080/",
          "height": 279
        },
        "outputId": "9b38b3fe-24c4-4bb6-8a62-7438af6d635e"
      },
      "execution_count": 95,
      "outputs": [
        {
          "output_type": "display_data",
          "data": {
            "text/plain": [
              "<Figure size 432x288 with 1 Axes>"
            ],
            "image/png": "[encoded data removed]"
          },
          "metadata": {
            "needs_background": "light"
          }
        }
      ]
    },
    {
      "cell_type": "code",
      "source": [
        "#Birinci eleman kaybı, ikinci eleman ise doğruluğu ifade ediyor.\n",
        "model.evaluate(X_test, y_test)"
      ],
      "metadata": {
        "id": "VTBGZx4q_72F",
        "colab": {
          "base_uri": "https://localhost:8080/"
        },
        "outputId": "56056bb2-cd46-4672-928f-1f2336dfe3ce"
      },
      "execution_count": 96,
      "outputs": [
        {
          "output_type": "stream",
          "name": "stdout",
          "text": [
            "14/14 [==============================] - 0s 9ms/step - loss: 0.2397 - accuracy: 0.9497\n"
          ]
        },
        {
          "output_type": "execute_result",
          "data": {
            "text/plain": [
              "[0.23972861468791962, 0.9496567249298096]"
            ]
          },
          "metadata": {},
          "execution_count": 96
        }
      ]
    },
    {
      "cell_type": "code",
      "source": [
        "#Örnek Resim:\n",
        "cv2_imshow(X_test[100]*255)\n",
        "prediction_result=model.predict(X_test[100].reshape((1,100,100,1)))\n",
        "prediction_result\n",
        "predicted_class=prediction_result.argmax()\n",
        "predicted_probability=prediction_result.max()\n",
        "\n",
        "print(\"Label: \"+str(y_test[100]))\n",
        "print(\"Prediction: \"+str(predicted_class))\n",
        "print(\"Prediction Probability: \"+str(int(predicted_probability*100))+\"%\")"
      ],
      "metadata": {
        "id": "lIDIlC_GAA34",
        "colab": {
          "base_uri": "https://localhost:8080/",
          "height": 169
        },
        "outputId": "8c99c046-b359-40d7-ac4d-7410cfc9488d"
      },
      "execution_count": 90,
      "outputs": [
        {
          "output_type": "display_data",
          "data": {
            "text/plain": [
              "<PIL.Image.Image image mode=L size=100x100 at 0x7F5D2E34B490>"
            ],
            "image/png": "[encoded data removed]"
          },
          "metadata": {}
        },
        {
          "output_type": "stream",
          "name": "stdout",
          "text": [
            "Label: 4\n",
            "Prediction: 4\n",
            "Prediction Probability: 100%\n"
          ]
        }
      ]
    },
    {
      "cell_type": "code",
      "source": [],
      "metadata": {
        "id": "PFlRi40Q7IUr"
      },
      "execution_count": null,
      "outputs": []
    }
  ]
}